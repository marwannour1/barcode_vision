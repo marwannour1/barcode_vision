{
 "cells": [
  {
   "cell_type": "code",
   "execution_count": null,
   "metadata": {},
   "outputs": [
    {
     "data": {
      "image/png": "[encoded data removed]",
      "text/plain": [
       "<Figure size 1000x1000 with 1 Axes>"
      ]
     },
     "metadata": {},
     "output_type": "display_data"
    }
   ],
   "source": [
    "import numpy as np\n",
    "import cv2\n",
    "import matplotlib.pyplot as plt\n",
    "\n",
    "image = cv2.imread('D://Ahmed//Computer Vision//barcode_vision//Test Cases Code//10 - wen el kontraastttt.jpg')\n",
    "#show image\n",
    "def show_image(title, image):\n",
    "    plt.figure(figsize=(10, 10))\n",
    "    plt.title(title)\n",
    "    plt.imshow(cv2.cvtColor(image, cv2.COLOR_BGR2RGB))\n",
    "    plt.axis('off')\n",
    "    plt.show()\n",
    "\n",
    "show_image('Original Image', image)\n",
    "\n"
   ]
  },
  {
   "cell_type": "code",
   "execution_count": null,
   "metadata": {},
   "outputs": [],
   "source": [
    "def crop_barcode(image_path, output_path):\n",
    "    # Read the image\n",
    "    image = cv2.imread(image_path)\n",
    "    if image is None:\n",
    "        print(f\"Error: Unable to read image from {image_path}\")\n",
    "        return\n",
    "    \n",
    "    # Convert the image to grayscale\n",
    "    gray = cv2.cvtColor(image, cv2.COLOR_BGR2GRAY)\n",
    "    \n",
    "    # Apply GaussianBlur to reduce noise and improve edge detection\n",
    "    blurred = cv2.GaussianBlur(gray, (9, 9), 0)\n",
    "    \n",
    "    # Apply edge detection\n",
    "    edged = cv2.Canny(blurred, 50, 200, 255)\n",
    "    \n",
    "    # Apply morphological operations to close gaps in the edges\n",
    "    kernel = cv2.getStructuringElement(cv2.MORPH_RECT, (21, 7))\n",
    "    closed = cv2.morphologyEx(edged, cv2.MORPH_CLOSE, kernel)\n",
    "    \n",
    "    # Show the edged image\n",
    "    show_image(\"Edged Image\", edged)\n",
    "    show_image(\"Closed Image\", closed)\n",
    "    \n",
    "    # Find contours in the closed image\n",
    "    contours, _ = cv2.findContours(closed.copy(), cv2.RETR_EXTERNAL, cv2.CHAIN_APPROX_SIMPLE)\n",
    "    \n",
    "    # Sort the contours by area, keeping only the largest one\n",
    "    contours = sorted(contours, key=cv2.contourArea, reverse=True)\n",
    "    \n",
    "    barcode_contour = None\n",
    "    \n",
    "    # Loop over the contours to find the one that likely represents the barcode\n",
    "    for contour in contours:\n",
    "        # Approximate the contour\n",
    "        peri = cv2.arcLength(contour, True)\n",
    "        approx = cv2.approxPolyDP(contour, 0.02 * peri, True)\n",
    "        \n",
    "        # If the approximated contour has four points, we can assume we have found the barcode\n",
    "        if len(approx) == 4:\n",
    "            barcode_contour = approx\n",
    "            break\n",
    "    \n",
    "    if barcode_contour is not None:\n",
    "        # Draw the contour on the image\n",
    "        cv2.drawContours(image, [barcode_contour], -1, (0, 255, 0), 2)\n",
    "        show_image(\"Detected Barcode\", image)\n",
    "        \n",
    "        # Get the bounding box of the barcode contour\n",
    "        x, y, w, h = cv2.boundingRect(barcode_contour)\n",
    "        \n",
    "        # Crop the image to the bounding box\n",
    "        cropped_image = image[y:y+h, x:x+w]\n",
    "        \n",
    "        # Save the cropped image\n",
    "        cv2.imwrite(output_path, cropped_image)\n",
    "        print(f\"Cropped image saved to {output_path}\")\n",
    "    else:\n",
    "        print(\"No barcode detected\")"
   ]
  }
 ],
 "metadata": {
  "kernelspec": {
   "display_name": "Python 3",
   "language": "python",
   "name": "python3"
  },
  "language_info": {
   "codemirror_mode": {
    "name": "ipython",
    "version": 3
   },
   "file_extension": ".py",
   "mimetype": "text/x-python",
   "name": "python",
   "nbconvert_exporter": "python",
   "pygments_lexer": "ipython3",
   "version": "3.10.11"
  }
 },
 "nbformat": 4,
 "nbformat_minor": 2
}
