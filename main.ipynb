{
 "cells": [
  {
   "cell_type": "code",
   "execution_count": null,
   "metadata": {},
   "outputs": [],
   "source": []
  },
  {
   "cell_type": "code",
   "execution_count": 1,
   "metadata": {},
   "outputs": [],
   "source": [
    "import cv2\n",
    "import numpy as np\n",
    "import matplotlib.pyplot as plt"
   ]
  },
  {
   "cell_type": "code",
   "execution_count": 10,
   "metadata": {},
   "outputs": [],
   "source": [
    "threshold_sp = 20     # Salt-and-pepper noise threshold"
   ]
  },
  {
   "cell_type": "code",
   "execution_count": 11,
   "metadata": {},
   "outputs": [],
   "source": [
    "detected_noises = []  # Detected noise types\n"
   ]
  },
  {
   "cell_type": "code",
   "execution_count": 12,
   "metadata": {},
   "outputs": [],
   "source": [
    "def detect_salt_pepper_noise(image):\n",
    "\n",
    "    # Check for salt-and-pepper noise\n",
    "    median_diff = np.mean(np.abs(image - cv2.medianBlur(image, 3)))\n",
    "    if median_diff > threshold_sp:\n",
    "        detected_noises.append('salt_pepper')"
   ]
  },
  {
   "cell_type": "code",
   "execution_count": 13,
   "metadata": {},
   "outputs": [],
   "source": [
    "def detect_sine_wave(image):\n",
    "   \n",
    "    \n",
    "    # Perform the 2D FFT of the image\n",
    "    f = np.fft.fft2(image)\n",
    "    fshift = np.fft.fftshift(f)  # Shift the zero frequency component to the center\n",
    "    \n",
    "    # Calculate the magnitude spectrum for visualization (not necessary for detection)\n",
    "    magnitude_spectrum = np.log(np.abs(fshift) + 1)  # +1 to avoid log(0)\n",
    "\n",
    "    # Define the center of the frequency spectrum\n",
    "    rows, cols = image.shape\n",
    "    crow, ccol = rows // 2, cols // 2\n",
    "\n",
    "    # Optionally filter out low frequencies (central part of spectrum)\n",
    "    fshift[crow - 30:crow + 30, ccol - 30:ccol + 30] = 0\n",
    "\n",
    "    # Inverse FFT to reconstruct the image without low-frequency components\n",
    "    f_ishift = np.fft.ifftshift(fshift)\n",
    "    img_back = np.fft.ifft2(f_ishift)\n",
    "    img_back = np.abs(img_back)\n",
    "\n",
    "    # Compute the difference between the original image and the processed image\n",
    "    sine_wave_diff = np.mean(np.abs(image - img_back))\n",
    "\n",
    "    # Adjust threshold based on empirical observations\n",
    "    threshold = 10  # A higher threshold for sine wave detection\n",
    "\n",
    "    # If the difference is greater than the threshold, consider it as sine wave noise\n",
    "    if sine_wave_diff > threshold:\n",
    "        detected_noises.append('sine_wave')\n"
   ]
  },
  {
   "cell_type": "code",
   "execution_count": 14,
   "metadata": {},
   "outputs": [],
   "source": [
    "def detect_image_is_blurred(image):\n",
    "    # Convert the image to grayscale if it's not already\n",
    "    if len(image.shape) > 2:  # Check if the image is colored (3 channels)\n",
    "        gray_image = cv2.cvtColor(image, cv2.COLOR_BGR2GRAY)\n",
    "    else:\n",
    "        gray_image = image\n",
    "    \n",
    "    # Apply Laplacian to the image\n",
    "    laplacian = cv2.Laplacian(gray_image, cv2.CV_64F)\n",
    "    \n",
    "    # Calculate the variance of the Laplacian\n",
    "    laplacian_var = np.var(laplacian)\n",
    "    \n",
    "    # Set a threshold value based on the image type\n",
    "    blur_threshold = 1000  # You can adjust this threshold as needed\n",
    "    \n",
    "    # Check if the variance is below the threshold (indicating blur)\n",
    "    if laplacian_var < blur_threshold:\n",
    "        detected_noises.append('blurred')\n",
    "        print(\"Blur detected\")\n",
    "    else:\n",
    "        print(\"Image is not blurred\")"
   ]
  },
  {
   "cell_type": "code",
   "execution_count": 15,
   "metadata": {},
   "outputs": [],
   "source": [
    "#function to check image's brightness and fix when too low or too high so that the barcode is readable\n",
    "def adjust_brightness(image, target_brightness=128):\n",
    "    # Convert the image to grayscale\n",
    "    gray = cv2.cvtColor(image, cv2.COLOR_BGR2GRAY)\n",
    "    \n",
    "    # Calculate the average brightness of the image\n",
    "    avg_brightness = np.mean(gray)\n",
    "    \n",
    "    # Calculate the adjustment factor\n",
    "    beta = target_brightness - avg_brightness\n",
    "    \n",
    "    # Adjust the brightness of the image\n",
    "    new_image = cv2.convertScaleAbs(image, alpha=1.0, beta=beta)\n",
    "    \n",
    "    return new_image"
   ]
  },
  {
   "cell_type": "code",
   "execution_count": 16,
   "metadata": {},
   "outputs": [
    {
     "ename": "TypeError",
     "evalue": "adjust_brightness() got an unexpected keyword argument 'alpha'",
     "output_type": "error",
     "traceback": [
      "\u001b[1;31m---------------------------------------------------------------------------\u001b[0m",
      "\u001b[1;31mTypeError\u001b[0m                                 Traceback (most recent call last)",
      "Cell \u001b[1;32mIn[16], line 11\u001b[0m\n\u001b[0;32m      8\u001b[0m     cv2\u001b[38;5;241m.\u001b[39mwaitKey(\u001b[38;5;241m0\u001b[39m)\n\u001b[0;32m      9\u001b[0m     cv2\u001b[38;5;241m.\u001b[39mdestroyAllWindows()\n\u001b[1;32m---> 11\u001b[0m \u001b[43mtest_adjust_brightness\u001b[49m\u001b[43m(\u001b[49m\u001b[43mcv2\u001b[49m\u001b[38;5;241;43m.\u001b[39;49m\u001b[43mimread\u001b[49m\u001b[43m(\u001b[49m\u001b[38;5;124;43m'\u001b[39;49m\u001b[38;5;124;43m06 - meen fata7 el nour 333eenaaayy.jpg\u001b[39;49m\u001b[38;5;124;43m'\u001b[39;49m\u001b[43m)\u001b[49m\u001b[43m)\u001b[49m    \n",
      "Cell \u001b[1;32mIn[16], line 4\u001b[0m, in \u001b[0;36mtest_adjust_brightness\u001b[1;34m(image)\u001b[0m\n\u001b[0;32m      2\u001b[0m \u001b[38;5;28;01mdef\u001b[39;00m \u001b[38;5;21mtest_adjust_brightness\u001b[39m(image):\n\u001b[0;32m      3\u001b[0m     \u001b[38;5;66;03m# Adjust the brightness of the image\u001b[39;00m\n\u001b[1;32m----> 4\u001b[0m     brighter_image \u001b[38;5;241m=\u001b[39m \u001b[43madjust_brightness\u001b[49m\u001b[43m(\u001b[49m\u001b[43mimage\u001b[49m\u001b[43m,\u001b[49m\u001b[43m \u001b[49m\u001b[43malpha\u001b[49m\u001b[38;5;241;43m=\u001b[39;49m\u001b[38;5;241;43m1.5\u001b[39;49m\u001b[43m,\u001b[49m\u001b[43m \u001b[49m\u001b[43mbeta\u001b[49m\u001b[38;5;241;43m=\u001b[39;49m\u001b[38;5;241;43m50\u001b[39;49m\u001b[43m)\u001b[49m\n\u001b[0;32m      5\u001b[0m     \u001b[38;5;66;03m# Display the images\u001b[39;00m\n\u001b[0;32m      6\u001b[0m     cv2\u001b[38;5;241m.\u001b[39mimshow(\u001b[38;5;124m'\u001b[39m\u001b[38;5;124mOriginal Image\u001b[39m\u001b[38;5;124m'\u001b[39m, image)\n",
      "\u001b[1;31mTypeError\u001b[0m: adjust_brightness() got an unexpected keyword argument 'alpha'"
     ]
    }
   ],
   "source": [
    "#test the adjust_brightness function\n",
    "def test_adjust_brightness(image):\n",
    "    # Adjust the brightness of the image\n",
    "    brighter_image = adjust_brightness(image, alpha=1.5, beta=50)\n",
    "    # Display the images\n",
    "    cv2.imshow('Original Image', image)\n",
    "    cv2.imshow('Brighter Image', brighter_image)\n",
    "    cv2.waitKey(0)\n",
    "    cv2.destroyAllWindows()\n",
    "    \n",
    "test_adjust_brightness(cv2.imread('06 - meen fata7 el nour 333eenaaayy.jpg'))    \n"
   ]
  },
  {
   "cell_type": "code",
   "execution_count": null,
   "metadata": {},
   "outputs": [],
   "source": [
    "def detect_noises(image, detect_noises):\n",
    "    detect_salt_pepper_noise(image)\n",
    "    detect_sine_wave(image)\n",
    "    detect_low_light(image)\n",
    "    detect_image_is_blurred(image)\n"
   ]
  },
  {
   "cell_type": "code",
   "execution_count": null,
   "metadata": {},
   "outputs": [],
   "source": [
    "def preprocess_image(image, noise_types):\n",
    "\n",
    "    if noise_types is None:\n",
    "        return image\n",
    "\n",
    "    processed_image = image.copy()\n",
    "\n",
    "\n",
    "    if 'salt_pepper' in noise_types:\n",
    "\n",
    "        processed_image = cv2.medianBlur(cv2.blur(processed_image, (1, 9)), 5)  # Apply a median filter first\n",
    "        _, processed_image = cv2.threshold(processed_image, 0, 255, cv2.THRESH_BINARY + cv2.THRESH_OTSU)  # Apply Otsu's thresholding\n",
    "    \n",
    "\n",
    "\n",
    "    return processed_image"
   ]
  },
  {
   "cell_type": "code",
   "execution_count": null,
   "metadata": {},
   "outputs": [],
   "source": [
    "# Read barcode image\n",
    "image = cv2.imread('Test Case Images/07 - mal7 w felfel.jpg', cv2.IMREAD_GRAYSCALE)"
   ]
  },
  {
   "cell_type": "code",
   "execution_count": null,
   "metadata": {},
   "outputs": [
    {
     "name": "stdout",
     "output_type": "stream",
     "text": [
      "Image is not blurred\n",
      "Detected noise types: ['salt_pepper', 'sine_wave']\n"
     ]
    }
   ],
   "source": [
    "detect_noises(image, detected_noises)\n",
    "print(f\"Detected noise types: {detected_noises}\")"
   ]
  },
  {
   "cell_type": "code",
   "execution_count": null,
   "metadata": {},
   "outputs": [],
   "source": [
    "# Apply preprocessing\n",
    "processed_image = preprocess_image(image, detected_noises)"
   ]
  },
  {
   "cell_type": "code",
   "execution_count": null,
   "metadata": {},
   "outputs": [
    {
     "data": {
      "text/plain": [
       "True"
      ]
     },
     "execution_count": 14,
     "metadata": {},
     "output_type": "execute_result"
    }
   ],
   "source": [
    "#Save or display the result\n",
    "cv2.imwrite('processed_barcode.jpg', processed_image)"
   ]
  },
  {
   "cell_type": "code",
   "execution_count": null,
   "metadata": {},
   "outputs": [],
   "source": []
  },
  {
   "cell_type": "code",
   "execution_count": 2,
   "metadata": {},
   "outputs": [],
   "source": [
    "def show_image(title, image):\n",
    "    plt.figure(figsize=(10, 10))\n",
    "    plt.title(title)\n",
    "    plt.imshow(cv2.cvtColor(image, cv2.COLOR_BGR2RGB))\n",
    "    plt.axis('off')\n",
    "    plt.show()\n",
    "\n",
    "def crop_barcode(image_path, output_path):\n",
    "    # Read the image\n",
    "    image = cv2.imread(image_path)\n",
    "    if image is None:\n",
    "        print(f\"Error: Unable to read image from {image_path}\")\n",
    "        return\n",
    "\n",
    "    # Convert the image to grayscale\n",
    "    gray = cv2.cvtColor(image, cv2.COLOR_BGR2GRAY)\n",
    "\n",
    "    # Apply GaussianBlur to reduce noise and improve edge detection\n",
    "    blurred = cv2.GaussianBlur(gray, (9, 9), 0)\n",
    "\n",
    "    # Apply edge detection\n",
    "    edged = cv2.Canny(blurred, 50, 200, 255)\n",
    "\n",
    "    # Apply morphological operations to close gaps in the edges\n",
    "    kernel = cv2.getStructuringElement(cv2.MORPH_RECT, (21, 7))\n",
    "    closed = cv2.morphologyEx(edged, cv2.MORPH_CLOSE, kernel)\n",
    "\n",
    "    # Show the edged image\n",
    "    show_image(\"Edged Image\", edged)\n",
    "    show_image(\"Closed Image\", closed)\n",
    "\n",
    "    # Find contours in the closed image\n",
    "    contours, _ = cv2.findContours(closed.copy(), cv2.RETR_EXTERNAL, cv2.CHAIN_APPROX_SIMPLE)\n",
    "\n",
    "    # Sort the contours by area, keeping only the largest one\n",
    "    contours = sorted(contours, key=cv2.contourArea, reverse=True)\n",
    "\n",
    "    barcode_contour = None\n",
    "\n",
    "    # Loop over the contours to find the one that likely represents the barcode\n",
    "    for contour in contours:\n",
    "        # Approximate the contour\n",
    "        peri = cv2.arcLength(contour, True)\n",
    "        approx = cv2.approxPolyDP(contour, 0.02 * peri, True)\n",
    "\n",
    "        # If the approximated contour has four points, we can assume we have found the barcode\n",
    "        if len(approx) == 4:\n",
    "            barcode_contour = approx\n",
    "            break\n",
    "\n",
    "    if barcode_contour is not None:\n",
    "        # Get the points of the contour (in order of top-left, top-right, bottom-right, bottom-left)\n",
    "        points = barcode_contour.reshape(4, 2)\n",
    "\n",
    "        # Order the points in a consistent way\n",
    "        points = sorted(points, key=lambda x: x[0])\n",
    "        (tl, tr) = sorted(points[:2], key=lambda x: x[1])  # top-left, top-right\n",
    "        (bl, br) = sorted(points[2:], key=lambda x: x[1])  # bottom-left, bottom-right\n",
    "\n",
    "        # The ordered points for the perspective transform\n",
    "        ordered_points = np.array([tl, tr, br, bl], dtype=\"float32\")\n",
    "\n",
    "        # Define the width and height of the new image (horizontal rectangle)\n",
    "        width = int(max(np.linalg.norm(br - bl), np.linalg.norm(tr - tl)))\n",
    "        height = int(max(np.linalg.norm(tr - br), np.linalg.norm(tl - bl)))\n",
    "\n",
    "        # Define the destination points for the perspective transform (a rectangular region)\n",
    "        destination_points = np.array([\n",
    "            [0, 0],\n",
    "            [width - 1, 0],\n",
    "            [width - 1, height - 1],\n",
    "            [0, height - 1]\n",
    "        ], dtype=\"float32\")\n",
    "\n",
    "        # Compute the perspective transform matrix\n",
    "        matrix = cv2.getPerspectiveTransform(ordered_points, destination_points)\n",
    "\n",
    "        # Apply the perspective transform to straighten the barcode region\n",
    "        straightened_image = cv2.warpPerspective(image, matrix, (width, height))\n",
    "\n",
    "        # Check if the image is taller than it is wide\n",
    "        if straightened_image.shape[0] > straightened_image.shape[1]:\n",
    "            # Rotate the image to make it horizontal (counterclockwise rotation)\n",
    "            straightened_image = cv2.rotate(straightened_image, cv2.ROTATE_90_COUNTERCLOCKWISE)\n",
    "\n",
    "        # Show the straightened barcode\n",
    "        show_image(\"Straightened Barcode\", straightened_image)\n",
    "\n",
    "        # Save the straightened image\n",
    "        cv2.imwrite(output_path, straightened_image)\n",
    "        print(f\"Straightened image saved to {output_path}\")\n",
    "    else:\n",
    "        print(\"No barcode detected\")"
   ]
  },
  {
   "cell_type": "code",
   "execution_count": 3,
   "metadata": {},
   "outputs": [
    {
     "data": {
      "image/png": "[encoded data removed]",
      "text/plain": [
       "<Figure size 1000x1000 with 1 Axes>"
      ]
     },
     "metadata": {},
     "output_type": "display_data"
    },
    {
     "data": {
      "image/png": "[encoded data removed]",
      "text/plain": [
       "<Figure size 1000x1000 with 1 Axes>"
      ]
     },
     "metadata": {},
     "output_type": "display_data"
    },
    {
     "name": "stdout",
     "output_type": "stream",
     "text": [
      "No barcode detected\n"
     ]
    }
   ],
   "source": [
    "# Example usage\n",
    "crop_barcode('output_image.jpg', 'cro2pped_image.jpg')"
   ]
  },
  {
   "cell_type": "code",
   "execution_count": 61,
   "metadata": {},
   "outputs": [
    {
     "name": "stdout",
     "output_type": "stream",
     "text": [
      "[]\n",
      "0\n"
     ]
    }
   ],
   "source": [
    "import numpy as np\n",
    "your_cropped_image = cv2.imread('cro2pped_image.jpg', cv2.IMREAD_GRAYSCALE)\n",
    "# 0 means narrow, 1 means wide\n",
    "NARROW = \"0\"\n",
    "WIDE = \"1\"\n",
    "code11_widths = {\n",
    "    \"00110\": \"Stop/Start\",\n",
    "    \"10001\": \"1\",\n",
    "    \"01001\": \"2\",\n",
    "    \"11000\": \"3\",\n",
    "    \"00101\": \"4\",\n",
    "    \"10100\": \"5\",\n",
    "    \"01100\": \"6\",\n",
    "    \"00011\": \"7\",\n",
    "    \"10010\": \"8\",\n",
    "    \"10000\": \"9\",\n",
    "    \"00001\": \"0\",\n",
    "    \"00100\": \"-\",\n",
    "}\n",
    "\n",
    "# Get the average of each column in your image\n",
    "mean = your_cropped_image.mean(axis=0)\n",
    "\n",
    "# Set it to black or white based on its value\n",
    "mean[mean <= 128] = 1\n",
    "mean[mean > 128] = 0\n",
    "\n",
    "# Convert to string of pixels in order to loop over it\n",
    "pixels = ''.join(mean.astype(np.uint8).astype(str))\n",
    "\n",
    "# Need to figure out how many pixels represent a narrow bar\n",
    "narrow_bar_size = 0\n",
    "for pixel in pixels:\n",
    "    if pixel == \"1\":\n",
    "        narrow_bar_size += 1\n",
    "    else:\n",
    "        break\n",
    "\n",
    "wide_bar_size = narrow_bar_size * 2 -1\n",
    "\n",
    "digits = []\n",
    "pixel_index = 0\n",
    "current_digit_widths = \"\"\n",
    "skip_next = False\n",
    "\n",
    "while pixel_index < len(pixels):\n",
    "\n",
    "    if skip_next:\n",
    "        pixel_index += narrow_bar_size\n",
    "        skip_next = False\n",
    "        continue\n",
    "\n",
    "    count = 1\n",
    "    try:\n",
    "        while pixels[pixel_index] == pixels[pixel_index + 1]:\n",
    "            count += 1\n",
    "            pixel_index += 1\n",
    "    except:\n",
    "        pass\n",
    "    pixel_index += 1\n",
    "\n",
    "    current_digit_widths += NARROW if count < wide_bar_size-2 else WIDE\n",
    "\n",
    "    if current_digit_widths in code11_widths:\n",
    "        digits.append(code11_widths[current_digit_widths])\n",
    "        current_digit_widths = \"\"\n",
    "        skip_next = True  # Next iteration will be a separator, so skip it\n",
    "\n",
    "print(digits)\n",
    "\n",
    "print(narrow_bar_size)\n"
   ]
  },
  {
   "cell_type": "code",
   "execution_count": 20,
   "metadata": {},
   "outputs": [],
   "source": [
    "import cv2\n",
    "import numpy as np\n",
    "\n",
    "def show_image(name, image):\n",
    "    \"\"\"Utility function to display an image.\"\"\"\n",
    "    cv2.imshow(name, image)\n",
    "    cv2.waitKey(0)\n",
    "    cv2.destroyAllWindows()\n",
    "\n",
    "def crop_largest_rectangle(image_path, output_path):\n",
    "    # Load the image\n",
    "    image = cv2.imread(image_path)\n",
    "    if image is None:\n",
    "        print(\"Error: Unable to load image.\")\n",
    "        return\n",
    "    \n",
    "    # Convert the image to grayscale\n",
    "    gray = cv2.cvtColor(image, cv2.COLOR_BGR2GRAY)\n",
    "    \n",
    "    # Invert the image to ensure white shapes stand out from black background\n",
    "    inverted = cv2.bitwise_not(gray)\n",
    "    \n",
    "    # Threshold the image (binarize)\n",
    "    _, thresh = cv2.threshold(inverted, 0, 255, cv2.THRESH_BINARY + cv2.THRESH_OTSU)\n",
    "    \n",
    "    # Apply morphological closing to fill small gaps\n",
    "    kernel = cv2.getStructuringElement(cv2.MORPH_RECT, (15, 15))\n",
    "    closed = cv2.morphologyEx(thresh, cv2.MORPH_CLOSE, kernel)\n",
    "    \n",
    "    # Find external contours\n",
    "    contours, _ = cv2.findContours(closed, cv2.RETR_EXTERNAL, cv2.CHAIN_APPROX_SIMPLE)\n",
    "    \n",
    "    if not contours:\n",
    "        print(\"No contours found.\")\n",
    "        return\n",
    "    \n",
    "    # Find the largest contour based on area\n",
    "    largest_contour = max(contours, key=cv2.contourArea)\n",
    "    \n",
    "    # Approximate the contour to handle irregularities\n",
    "    hull = cv2.convexHull(largest_contour)  # Convex hull ensures we cover missing corners\n",
    "    \n",
    "    # Get the minimum area bounding rectangle around the hull\n",
    "    rect = cv2.minAreaRect(hull)\n",
    "    box = cv2.boxPoints(rect)\n",
    "    box = np.int32(box)  # Convert to integer points\n",
    "    \n",
    "    # Draw the detected rectangle on the original image (for visualization)\n",
    "    image_copy = image.copy()\n",
    "    cv2.drawContours(image_copy, [box], -1, (0, 255, 0), 2)\n",
    "    show_image(\"Detected Rectangle\", image_copy)\n",
    "    \n",
    "    # Perspective transformation\n",
    "    width = int(rect[1][0])\n",
    "    height = int(rect[1][1])\n",
    "    src_pts = box.astype(\"float32\")\n",
    "    dst_pts = np.array([[0, 0], [width - 1, 0], [width - 1, height - 1], [0, height - 1]], dtype=\"float32\")\n",
    "    \n",
    "    # Compute the perspective transform matrix\n",
    "    matrix = cv2.getPerspectiveTransform(src_pts, dst_pts)\n",
    "    warped = cv2.warpPerspective(image, matrix, (width, height))\n",
    "    \n",
    "    # Remove the unnecessary rotation\n",
    "    # Instead, adjust the output dimensions to maintain aspect ratio\n",
    "    output_width = max(width, height)\n",
    "    output_height = min(width, height)\n",
    "    \n",
    "    # Resize the warped image to fit the desired output size\n",
    "    resized_warped = cv2.resize(warped, (output_width, output_height))\n",
    "    \n",
    "    # Show and save the result\n",
    "    show_image(\"Cropped Rectangle\", resized_warped)\n",
    "    cv2.imwrite(output_path, resized_warped)\n",
    "    print(f\"Cropped rectangle saved to {output_path}\")\n",
    "\n",
    "# Example usage\n",
    "\n"
   ]
  },
  {
   "cell_type": "code",
   "execution_count": 23,
   "metadata": {},
   "outputs": [
    {
     "name": "stdout",
     "output_type": "stream",
     "text": [
      "Cropped rectangle saved to straightened_image.jpg\n"
     ]
    }
   ],
   "source": [
    "crop_largest_rectangle('fixedContrast.jpg', 'straightened_image.jpg')"
   ]
  }
 ],
 "metadata": {
  "kernelspec": {
   "display_name": "Python 3",
   "language": "python",
   "name": "python3"
  },
  "language_info": {
   "codemirror_mode": {
    "name": "ipython",
    "version": 3
   },
   "file_extension": ".py",
   "mimetype": "text/x-python",
   "name": "python",
   "nbconvert_exporter": "python",
   "pygments_lexer": "ipython3",
   "version": "3.12.0"
  }
 },
 "nbformat": 4,
 "nbformat_minor": 2
}
