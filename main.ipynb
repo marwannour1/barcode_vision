{
 "cells": [
  {
   "cell_type": "code",
   "execution_count": 19,
   "metadata": {},
   "outputs": [
    {
     "name": "stdout",
     "output_type": "stream",
     "text": [
      "Requirement already satisfied: matplotlib in c:\\python312\\lib\\site-packages (3.9.2)\n",
      "Requirement already satisfied: contourpy>=1.0.1 in c:\\python312\\lib\\site-packages (from matplotlib) (1.3.1)\n",
      "Requirement already satisfied: cycler>=0.10 in c:\\python312\\lib\\site-packages (from matplotlib) (0.12.1)\n",
      "Requirement already satisfied: fonttools>=4.22.0 in c:\\python312\\lib\\site-packages (from matplotlib) (4.55.0)\n",
      "Requirement already satisfied: kiwisolver>=1.3.1 in c:\\python312\\lib\\site-packages (from matplotlib) (1.4.7)\n",
      "Requirement already satisfied: numpy>=1.23 in c:\\python312\\lib\\site-packages (from matplotlib) (2.1.2)\n",
      "Requirement already satisfied: packaging>=20.0 in c:\\users\\ahmed\\appdata\\roaming\\python\\python312\\site-packages (from matplotlib) (24.0)\n",
      "Requirement already satisfied: pillow>=8 in c:\\python312\\lib\\site-packages (from matplotlib) (11.0.0)\n",
      "Requirement already satisfied: pyparsing>=2.3.1 in c:\\python312\\lib\\site-packages (from matplotlib) (3.2.0)\n",
      "Requirement already satisfied: python-dateutil>=2.7 in c:\\users\\ahmed\\appdata\\roaming\\python\\python312\\site-packages (from matplotlib) (2.9.0.post0)\n",
      "Requirement already satisfied: six>=1.5 in c:\\users\\ahmed\\appdata\\roaming\\python\\python312\\site-packages (from python-dateutil>=2.7->matplotlib) (1.16.0)\n"
     ]
    },
    {
     "name": "stderr",
     "output_type": "stream",
     "text": [
      "\n",
      "[notice] A new release of pip is available: 23.2.1 -> 24.3.1\n",
      "[notice] To update, run: python.exe -m pip install --upgrade pip\n"
     ]
    }
   ],
   "source": [
    "!pip install matplotlib"
   ]
  },
  {
   "cell_type": "code",
   "execution_count": 20,
   "metadata": {},
   "outputs": [],
   "source": [
    "import cv2\n",
    "import numpy as np\n",
    "import matplotlib.pyplot as plt"
   ]
  },
  {
   "cell_type": "code",
   "execution_count": 21,
   "metadata": {},
   "outputs": [],
   "source": [
    "threshold_sp = 20     # Salt-and-pepper noise threshold"
   ]
  },
  {
   "cell_type": "code",
   "execution_count": 22,
   "metadata": {},
   "outputs": [],
   "source": [
    "detected_noises = []  # Detected noise types\n"
   ]
  },
  {
   "cell_type": "code",
   "execution_count": 23,
   "metadata": {},
   "outputs": [],
   "source": [
    "def detect_salt_pepper_noise(image):\n",
    "\n",
    "    # Check for salt-and-pepper noise\n",
    "    median_diff = np.mean(np.abs(image - cv2.medianBlur(image, 3)))\n",
    "    if median_diff > threshold_sp:\n",
    "        detected_noises.append('salt_pepper')"
   ]
  },
  {
   "cell_type": "code",
   "execution_count": 24,
   "metadata": {},
   "outputs": [],
   "source": [
    "def detect_sine_wave(image):\n",
    "   \n",
    "    \n",
    "    # Perform the 2D FFT of the image\n",
    "    f = np.fft.fft2(image)\n",
    "    fshift = np.fft.fftshift(f)  # Shift the zero frequency component to the center\n",
    "    \n",
    "    # Calculate the magnitude spectrum for visualization (not necessary for detection)\n",
    "    magnitude_spectrum = np.log(np.abs(fshift) + 1)  # +1 to avoid log(0)\n",
    "\n",
    "    # Define the center of the frequency spectrum\n",
    "    rows, cols = image.shape\n",
    "    crow, ccol = rows // 2, cols // 2\n",
    "\n",
    "    # Optionally filter out low frequencies (central part of spectrum)\n",
    "    fshift[crow - 30:crow + 30, ccol - 30:ccol + 30] = 0\n",
    "\n",
    "    # Inverse FFT to reconstruct the image without low-frequency components\n",
    "    f_ishift = np.fft.ifftshift(fshift)\n",
    "    img_back = np.fft.ifft2(f_ishift)\n",
    "    img_back = np.abs(img_back)\n",
    "\n",
    "    # Compute the difference between the original image and the processed image\n",
    "    sine_wave_diff = np.mean(np.abs(image - img_back))\n",
    "\n",
    "    # Adjust threshold based on empirical observations\n",
    "    threshold = 10  # A higher threshold for sine wave detection\n",
    "\n",
    "    # If the difference is greater than the threshold, consider it as sine wave noise\n",
    "    if sine_wave_diff > threshold:\n",
    "        detected_noises.append('sine_wave')\n"
   ]
  },
  {
   "cell_type": "code",
   "execution_count": 25,
   "metadata": {},
   "outputs": [],
   "source": [
    "def detect_image_is_blurred(image):\n",
    "    # Check for blurred image\n",
    "    laplacian = cv2.Laplacian(image, cv2.CV_64F)\n",
    "    laplacian_var = np.var(laplacian)\n",
    "    if laplacian_var < 10:\n",
    "        detected_noises.append('blurred')"
   ]
  },
  {
   "cell_type": "code",
   "execution_count": 26,
   "metadata": {},
   "outputs": [],
   "source": [
    "def detect_low_light(image):\n",
    "    # Check for low light noise\n",
    "    low_light_diff = np.mean(image)\n",
    "    if low_light_diff < 50:\n",
    "        detected_noises.append('low_light')"
   ]
  },
  {
   "cell_type": "code",
   "execution_count": 27,
   "metadata": {},
   "outputs": [],
   "source": [
    "def detect_noises(image, detect_noises):\n",
    "    detect_salt_pepper_noise(image)\n",
    "    detect_sine_wave(image)\n",
    "    detect_low_light(image)\n",
    "    detect_image_is_blurred(image)\n"
   ]
  },
  {
   "cell_type": "code",
   "execution_count": 28,
   "metadata": {},
   "outputs": [],
   "source": [
    "def preprocess_image(image, noise_types):\n",
    "\n",
    "    if noise_types is None:\n",
    "        return image\n",
    "\n",
    "    processed_image = image.copy()\n",
    "\n",
    "\n",
    "    if 'salt_pepper' in noise_types:\n",
    "\n",
    "        processed_image = cv2.medianBlur(cv2.blur(processed_image, (1, 9)), 5)  # Apply a median filter first\n",
    "        _, processed_image = cv2.threshold(processed_image, 0, 255, cv2.THRESH_BINARY + cv2.THRESH_OTSU)  # Apply Otsu's thresholding\n",
    "    \n",
    "\n",
    "\n",
    "    return processed_image"
   ]
  },
  {
   "cell_type": "code",
   "execution_count": 29,
   "metadata": {},
   "outputs": [],
   "source": [
    "# Read barcode image\n",
    "image = cv2.imread('Test Case Images/07 - mal7 w felfel.jpg', cv2.IMREAD_GRAYSCALE)"
   ]
  },
  {
   "cell_type": "code",
   "execution_count": 30,
   "metadata": {},
   "outputs": [
    {
     "name": "stdout",
     "output_type": "stream",
     "text": [
      "Detected noise types: ['salt_pepper', 'sine_wave']\n"
     ]
    }
   ],
   "source": [
    "detect_noises(image, detected_noises)\n",
    "print(f\"Detected noise types: {detected_noises}\")"
   ]
  },
  {
   "cell_type": "code",
   "execution_count": 31,
   "metadata": {},
   "outputs": [],
   "source": [
    "# Apply preprocessing\n",
    "processed_image = preprocess_image(image, detected_noises)"
   ]
  },
  {
   "cell_type": "code",
   "execution_count": 32,
   "metadata": {},
   "outputs": [
    {
     "data": {
      "text/plain": [
       "True"
      ]
     },
     "execution_count": 32,
     "metadata": {},
     "output_type": "execute_result"
    }
   ],
   "source": [
    "#Save or display the result\n",
    "cv2.imwrite('processed_barcode.jpg', processed_image)"
   ]
  },
  {
   "cell_type": "code",
   "execution_count": null,
   "metadata": {},
   "outputs": [],
   "source": []
  },
  {
   "cell_type": "code",
   "execution_count": 37,
   "metadata": {},
   "outputs": [],
   "source": [
    "def show_image(title, image):\n",
    "    plt.figure(figsize=(10, 10))\n",
    "    plt.title(title)\n",
    "    plt.imshow(cv2.cvtColor(image, cv2.COLOR_BGR2RGB))\n",
    "    plt.axis('off')\n",
    "    plt.show()\n",
    "\n",
    "def crop_barcode(image_path, output_path):\n",
    "    # Read the image\n",
    "    image = cv2.imread(image_path)\n",
    "    if image is None:\n",
    "        print(f\"Error: Unable to read image from {image_path}\")\n",
    "        return\n",
    "\n",
    "    # Convert the image to grayscale\n",
    "    gray = cv2.cvtColor(image, cv2.COLOR_BGR2GRAY)\n",
    "\n",
    "    # Apply GaussianBlur to reduce noise and improve edge detection\n",
    "    blurred = cv2.GaussianBlur(gray, (9, 9), 0)\n",
    "\n",
    "    # Apply edge detection\n",
    "    edged = cv2.Canny(blurred, 50, 200, 255)\n",
    "\n",
    "    # Apply morphological operations to close gaps in the edges\n",
    "    kernel = cv2.getStructuringElement(cv2.MORPH_RECT, (21, 7))\n",
    "    closed = cv2.morphologyEx(edged, cv2.MORPH_CLOSE, kernel)\n",
    "\n",
    "    # Show the edged image\n",
    "    show_image(\"Edged Image\", edged)\n",
    "    show_image(\"Closed Image\", closed)\n",
    "\n",
    "    # Find contours in the closed image\n",
    "    contours, _ = cv2.findContours(closed.copy(), cv2.RETR_EXTERNAL, cv2.CHAIN_APPROX_SIMPLE)\n",
    "\n",
    "    # Sort the contours by area, keeping only the largest one\n",
    "    contours = sorted(contours, key=cv2.contourArea, reverse=True)\n",
    "\n",
    "    barcode_contour = None\n",
    "\n",
    "    # Loop over the contours to find the one that likely represents the barcode\n",
    "    for contour in contours:\n",
    "        # Approximate the contour\n",
    "        peri = cv2.arcLength(contour, True)\n",
    "        approx = cv2.approxPolyDP(contour, 0.02 * peri, True)\n",
    "\n",
    "        # If the approximated contour has four points, we can assume we have found the barcode\n",
    "        if len(approx) == 4:\n",
    "            barcode_contour = approx\n",
    "            break\n",
    "\n",
    "    if barcode_contour is not None:\n",
    "        # Get the points of the contour (in order of top-left, top-right, bottom-right, bottom-left)\n",
    "        points = barcode_contour.reshape(4, 2)\n",
    "\n",
    "        # Order the points in a consistent way\n",
    "        points = sorted(points, key=lambda x: x[0])\n",
    "        (tl, tr) = sorted(points[:2], key=lambda x: x[1])  # top-left, top-right\n",
    "        (bl, br) = sorted(points[2:], key=lambda x: x[1])  # bottom-left, bottom-right\n",
    "\n",
    "        # The ordered points for the perspective transform\n",
    "        ordered_points = np.array([tl, tr, br, bl], dtype=\"float32\")\n",
    "\n",
    "        # Define the width and height of the new image (horizontal rectangle)\n",
    "        width = int(max(np.linalg.norm(br - bl), np.linalg.norm(tr - tl)))\n",
    "        height = int(max(np.linalg.norm(tr - br), np.linalg.norm(tl - bl)))\n",
    "\n",
    "        # Define the destination points for the perspective transform (a rectangular region)\n",
    "        destination_points = np.array([\n",
    "            [0, 0],\n",
    "            [width - 1, 0],\n",
    "            [width - 1, height - 1],\n",
    "            [0, height - 1]\n",
    "        ], dtype=\"float32\")\n",
    "\n",
    "        # Compute the perspective transform matrix\n",
    "        matrix = cv2.getPerspectiveTransform(ordered_points, destination_points)\n",
    "\n",
    "        # Apply the perspective transform to straighten the barcode region\n",
    "        straightened_image = cv2.warpPerspective(image, matrix, (width, height))\n",
    "\n",
    "        # Check if the image is taller than it is wide\n",
    "        if straightened_image.shape[0] > straightened_image.shape[1]:\n",
    "            # Rotate the image to make it horizontal (counterclockwise rotation)\n",
    "            straightened_image = cv2.rotate(straightened_image, cv2.ROTATE_90_COUNTERCLOCKWISE)\n",
    "\n",
    "        # Show the straightened barcode\n",
    "        show_image(\"Straightened Barcode\", straightened_image)\n",
    "\n",
    "        # Save the straightened image\n",
    "        cv2.imwrite(output_path, straightened_image)\n",
    "        print(f\"Straightened image saved to {output_path}\")\n",
    "    else:\n",
    "        print(\"No barcode detected\")"
   ]
  },
  {
   "cell_type": "code",
   "execution_count": 38,
   "metadata": {},
   "outputs": [
    {
     "data": {
      "image/png": "[encoded data removed]",
      "text/plain": [
       "<Figure size 1000x1000 with 1 Axes>"
      ]
     },
     "metadata": {},
     "output_type": "display_data"
    },
    {
     "data": {
      "image/png": "[encoded data removed]",
      "text/plain": [
       "<Figure size 1000x1000 with 1 Axes>"
      ]
     },
     "metadata": {},
     "output_type": "display_data"
    },
    {
     "data": {
      "image/png": "[encoded data removed]",
      "text/plain": [
       "<Figure size 1000x1000 with 1 Axes>"
      ]
     },
     "metadata": {},
     "output_type": "display_data"
    },
    {
     "name": "stdout",
     "output_type": "stream",
     "text": [
      "Straightened image saved to cropped_image.jpg\n"
     ]
    }
   ],
   "source": [
    "# Example usage\n",
    "crop_barcode('processed_barcode.jpg', 'cropped_image.jpg')"
   ]
  }
 ],
 "metadata": {
  "kernelspec": {
   "display_name": "Python 3",
   "language": "python",
   "name": "python3"
  },
  "language_info": {
   "codemirror_mode": {
    "name": "ipython",
    "version": 3
   },
   "file_extension": ".py",
   "mimetype": "text/x-python",
   "name": "python",
   "nbconvert_exporter": "python",
   "pygments_lexer": "ipython3",
   "version": "3.12.0"
  }
 },
 "nbformat": 4,
 "nbformat_minor": 2
}
