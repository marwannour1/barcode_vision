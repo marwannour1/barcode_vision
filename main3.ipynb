{
 "cells": [
  {
   "cell_type": "code",
   "execution_count": 6,
   "metadata": {},
   "outputs": [
    {
     "name": "stdout",
     "output_type": "stream",
     "text": [
      "Average brightness: 253.61312291666667\n",
      "Brightness adjustment needed.\n",
      "brightness_flg True\n"
     ]
    }
   ],
   "source": [
    "import cv2\n",
    "import numpy as np\n",
    "\n",
    "def detect_and_fix_brightness(image_path, target_brightness=128, threshold=30):\n",
    "    image = cv2.imread(image_path)\n",
    "    gray = cv2.cvtColor(image, cv2.COLOR_BGR2GRAY)\n",
    "    avg_brightness = np.mean(gray)\n",
    "    print(f\"Average brightness: {avg_brightness}\")\n",
    "    if abs(target_brightness - avg_brightness) > threshold:\n",
    "        print(\"Brightness adjustment needed.\")\n",
    "        return True\n",
    "    else:\n",
    "        print(\"Brightness is within acceptable range.\")\n",
    "        return False\n",
    "\n",
    "\n",
    "\n",
    "def pipeline_detecting(image_path):\n",
    "    img = cv2.imread(image_path)\n",
    "    brightness_flg =salt_pepper_flg = blur_flg = lowcontrast_flg = wave_flg = rotated_flg = cut_flg = False\n",
    "    brightness_flg = detect_and_fix_brightness(image_path)\n",
    "    print(\"brightness_flg\", brightness_flg)\n",
    "\n",
    "    \n",
    "\n",
    "\n",
    "pipeline_detecting(\"Test Case Images//06 - meen fata7 el nour 333eenaaayy.jpg\")\n",
    "\n"
   ]
  },
  {
   "cell_type": "code",
   "execution_count": 9,
   "metadata": {},
   "outputs": [
    {
     "name": "stdout",
     "output_type": "stream",
     "text": [
      "Min Intensity: 120, Max Intensity: 131, Contrast Range: 11\n",
      "Low contrast detected. Applying Otsu's thresholding to fix the image...\n",
      "Low contrast fixed and binary image saved to: binary_image.jpg\n"
     ]
    }
   ],
   "source": [
    "import cv2\n",
    "import numpy as np\n",
    "\n",
    "def detect_and_fix_low_contrast_otsu(image_path, threshold=50):\n",
    "    \n",
    "    image = cv2.imread(image_path, cv2.IMREAD_GRAYSCALE)\n",
    "    \n",
    "    min_pixel = np.min(image) \n",
    "    max_pixel = np.max(image)\n",
    "    contrast_range = max_pixel - min_pixel\n",
    "\n",
    "    print(f\"Min Intensity: {min_pixel}, Max Intensity: {max_pixel}, Contrast Range: {contrast_range}\")\n",
    "\n",
    "    is_low_contrast = contrast_range < threshold\n",
    "    if is_low_contrast:\n",
    "        print(\"Low contrast detected\")\n",
    "\n",
    "        \n",
    "    else:\n",
    "        print(\"Contrast is within acceptable range. No adjustments needed.\")\n",
    "\n",
    "# Example Usage\n",
    "input_image_path = 'Test Cases Code//10 - wen el kontraastttt.jpg'\n",
    "output_image_path = 'binary_image.jpg'\n",
    "\n",
    "# Detect and fix low contrast using Otsu's Thresholding\n",
    "binary_image, low_contrast_flag = detect_and_fix_low_contrast_otsu(input_image_path)\n",
    "\n",
    "# Save the binary image\n",
    "cv2.imwrite(output_image_path, binary_image)\n",
    "\n",
    "if low_contrast_flag:\n",
    "    print(f\"Low contrast fixed and binary image saved to: {output_image_path}\")\n",
    "else:\n",
    "    print(f\"Image binarized using Otsu's method and saved to: {output_image_path}\")\n"
   ]
  }
 ],
 "metadata": {
  "kernelspec": {
   "display_name": "Python 3",
   "language": "python",
   "name": "python3"
  },
  "language_info": {
   "codemirror_mode": {
    "name": "ipython",
    "version": 3
   },
   "file_extension": ".py",
   "mimetype": "text/x-python",
   "name": "python",
   "nbconvert_exporter": "python",
   "pygments_lexer": "ipython3",
   "version": "3.10.11"
  }
 },
 "nbformat": 4,
 "nbformat_minor": 2
}
